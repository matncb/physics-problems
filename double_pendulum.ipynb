{
 "cells": [
  {
   "cell_type": "code",
   "execution_count": 2,
   "metadata": {},
   "outputs": [],
   "source": [
    "import numpy as np\n",
    "import sympy as smp\n",
    "from scipy.integrate import odeint\n",
    "import matplotlib.pyplot as plt\n",
    "from matplotlib import animation\n",
    "from mpl_toolkits.mplot3d import Axes3D\n",
    "from matplotlib.animation import PillowWriter"
   ]
  },
  {
   "cell_type": "code",
   "execution_count": 3,
   "metadata": {},
   "outputs": [],
   "source": [
    "t, g = smp.symbols('t g')\n",
    "m1, m2 = smp.symbols('m1 m2')\n",
    "L1, L2 = smp.symbols('L1, L2')\n",
    "\n",
    "the1, the2 = smp.symbols(r'\\theta_1, \\theta_2', cls=smp.Function)\n",
    "the1 = the1(t)\n",
    "the2 = the2(t)"
   ]
  },
  {
   "cell_type": "code",
   "execution_count": 4,
   "metadata": {},
   "outputs": [],
   "source": [
    "the1_d = smp.diff(the1, t)\n",
    "the2_d = smp.diff(the2, t)\n",
    "the1_dd = smp.diff(the1_d, t)\n",
    "the2_dd = smp.diff(the2_d, t)"
   ]
  },
  {
   "cell_type": "code",
   "execution_count": 5,
   "metadata": {},
   "outputs": [],
   "source": [
    "#cartesian\n",
    "x1 = L1*smp.sin(the1)\n",
    "y1 = -L1*smp.cos(the1)\n",
    "x2 = L1*smp.sin(the1)+L2*smp.sin(the2)\n",
    "y2 = -L1*smp.cos(the1)-L2*smp.cos(the2)\n",
    "\n",
    "def get_x1y1x2y2(t, the1, the2, L1, L2):\n",
    "    return (L1*np.sin(the1),\n",
    "            -L1*np.cos(the1),\n",
    "            L1*np.sin(the1) + L2*np.sin(the2),\n",
    "            -L1*np.cos(the1) - L2*np.cos(the2))"
   ]
  },
  {
   "cell_type": "code",
   "execution_count": 6,
   "metadata": {},
   "outputs": [],
   "source": [
    "# Kinetic\n",
    "T1 = 1/2 * m1 * (smp.diff(x1, t)**2 + smp.diff(y1, t)**2)\n",
    "T2 = 1/2 * m2 * (smp.diff(x2, t)**2 + smp.diff(y2, t)**2)\n",
    "T = T1+T2\n",
    "# Potential\n",
    "V1 = m1*g*y1\n",
    "V2 = m2*g*y2\n",
    "V = V1 + V2\n",
    "# Lagrangian\n",
    "L = T-V"
   ]
  },
  {
   "cell_type": "code",
   "execution_count": 7,
   "metadata": {},
   "outputs": [
    {
     "data": {
      "text/latex": [
       "$\\displaystyle - \\frac{L_{1} m_{2} \\sin{\\left(\\theta_{1}{\\left(t \\right)} - \\theta_{2}{\\left(t \\right)} \\right)} \\cos{\\left(\\theta_{1}{\\left(t \\right)} - \\theta_{2}{\\left(t \\right)} \\right)} \\left(\\frac{d}{d t} \\theta_{1}{\\left(t \\right)}\\right)^{2}}{L_{1} m_{1} - L_{1} m_{2} \\cos^{2}{\\left(\\theta_{1}{\\left(t \\right)} - \\theta_{2}{\\left(t \\right)} \\right)} + L_{1} m_{2}} - \\frac{L_{2} m_{2} \\sin{\\left(\\theta_{1}{\\left(t \\right)} - \\theta_{2}{\\left(t \\right)} \\right)} \\left(\\frac{d}{d t} \\theta_{2}{\\left(t \\right)}\\right)^{2}}{L_{1} m_{1} - L_{1} m_{2} \\cos^{2}{\\left(\\theta_{1}{\\left(t \\right)} - \\theta_{2}{\\left(t \\right)} \\right)} + L_{1} m_{2}} - \\frac{g m_{1} \\sin{\\left(\\theta_{1}{\\left(t \\right)} \\right)}}{L_{1} m_{1} - L_{1} m_{2} \\cos^{2}{\\left(\\theta_{1}{\\left(t \\right)} - \\theta_{2}{\\left(t \\right)} \\right)} + L_{1} m_{2}} - \\frac{g m_{2} \\sin{\\left(\\theta_{1}{\\left(t \\right)} \\right)}}{L_{1} m_{1} - L_{1} m_{2} \\cos^{2}{\\left(\\theta_{1}{\\left(t \\right)} - \\theta_{2}{\\left(t \\right)} \\right)} + L_{1} m_{2}} + \\frac{g m_{2} \\sin{\\left(\\theta_{2}{\\left(t \\right)} \\right)} \\cos{\\left(\\theta_{1}{\\left(t \\right)} - \\theta_{2}{\\left(t \\right)} \\right)}}{L_{1} m_{1} - L_{1} m_{2} \\cos^{2}{\\left(\\theta_{1}{\\left(t \\right)} - \\theta_{2}{\\left(t \\right)} \\right)} + L_{1} m_{2}}$"
      ],
      "text/plain": [
       "-L1*m2*sin(\\theta_1(t) - \\theta_2(t))*cos(\\theta_1(t) - \\theta_2(t))*Derivative(\\theta_1(t), t)**2/(L1*m1 - L1*m2*cos(\\theta_1(t) - \\theta_2(t))**2 + L1*m2) - L2*m2*sin(\\theta_1(t) - \\theta_2(t))*Derivative(\\theta_2(t), t)**2/(L1*m1 - L1*m2*cos(\\theta_1(t) - \\theta_2(t))**2 + L1*m2) - g*m1*sin(\\theta_1(t))/(L1*m1 - L1*m2*cos(\\theta_1(t) - \\theta_2(t))**2 + L1*m2) - g*m2*sin(\\theta_1(t))/(L1*m1 - L1*m2*cos(\\theta_1(t) - \\theta_2(t))**2 + L1*m2) + g*m2*sin(\\theta_2(t))*cos(\\theta_1(t) - \\theta_2(t))/(L1*m1 - L1*m2*cos(\\theta_1(t) - \\theta_2(t))**2 + L1*m2)"
      ]
     },
     "execution_count": 7,
     "metadata": {},
     "output_type": "execute_result"
    }
   ],
   "source": [
    "LE1 = smp.simplify(smp.diff(L, the1) - smp.diff(smp.diff(L, the1_d), t))\n",
    "LE2 = smp.simplify(smp.diff(L, the2) - smp.diff(smp.diff(L, the2_d), t))\n",
    "\n",
    "sols = smp.solve([LE1, LE2], (the1_dd, the2_dd), simplify=False, rational=False)\n",
    "sols[the1_dd]"
   ]
  },
  {
   "cell_type": "code",
   "execution_count": 8,
   "metadata": {},
   "outputs": [],
   "source": [
    "dz1dt_f = smp.lambdify((t,g,m1,m2,L1,L2,the1,the2,the1_d,the2_d), sols[the1_dd])\n",
    "dz2dt_f = smp.lambdify((t,g,m1,m2,L1,L2,the1,the2,the1_d,the2_d), sols[the2_dd])\n",
    "dthe1dt_f = smp.lambdify(the1_d, the1_d)\n",
    "dthe2dt_f = smp.lambdify(the2_d, the2_d)\n",
    "\n",
    "def dSdt(S, t, g, m1, m2, L1, L2):\n",
    "    the1, z1, the2, z2 = S\n",
    "    return [\n",
    "        dthe1dt_f(z1),\n",
    "        dz1dt_f(t, g, m1, m2, L1, L2, the1, the2, z1, z2),\n",
    "        dthe2dt_f(z2),\n",
    "        dz2dt_f(t, g, m1, m2, L1, L2, the1, the2, z1, z2),\n",
    "    ]\n",
    "\n",
    "t = np.linspace(0, 40, 1001)\n",
    "g = 9.81\n",
    "m1=2\n",
    "m2=1\n",
    "L1 = 2\n",
    "L2 = 1\n",
    "\n",
    "ans = odeint(dSdt, y0=[1, -3, -1, 5], t=t, args=(g,m1,m2,L1,L2)).T\n",
    "the1 = ans[0]\n",
    "the2 = ans[2]\n",
    "\n",
    "x1, y1, x2, y2 = get_x1y1x2y2(t, ans[0], ans[2], L1, L2)"
   ]
  },
  {
   "cell_type": "code",
   "execution_count": 9,
   "metadata": {},
   "outputs": [
    {
     "data": {
      "image/png": "[encoded data removed]",
      "text/plain": [
       "<Figure size 576x576 with 1 Axes>"
      ]
     },
     "metadata": {},
     "output_type": "display_data"
    }
   ],
   "source": [
    "def animate(i):\n",
    "    ln1.set_data([0, x1[i], x2[i]], [0, y1[i], y2[i]])\n",
    "    text.set_text(\"Time = \" + str(round(t[i],2)))\n",
    "    \n",
    "fig, ax = plt.subplots(1,1, figsize=(8,8))\n",
    "ax.set_facecolor('k')\n",
    "ax.get_xaxis().set_ticks([])    # enable this to hide x axis ticks\n",
    "ax.get_yaxis().set_ticks([])    # enable this to hide y axis ticks\n",
    "ln1, = plt.plot([], [], 'ro--', lw=3, markersize=8)\n",
    "text = plt.text(0, 3, 'sdfs' , fontsize = 20, color = 'white', ha = 'center')\n",
    "ax.set_ylim(-4,4)\n",
    "ax.set_xlim(-4,4)\n",
    "ani = animation.FuncAnimation(fig, animate, frames=len(t), interval=50)\n",
    "ani.save('pen.gif',writer='pillow',fps=len(t[t<1]))"
   ]
  },
  {
   "cell_type": "code",
   "execution_count": null,
   "metadata": {},
   "outputs": [],
   "source": []
  }
 ],
 "metadata": {
  "kernelspec": {
   "display_name": "Python 3",
   "language": "python",
   "name": "python3"
  },
  "language_info": {
   "codemirror_mode": {
    "name": "ipython",
    "version": 3
   },
   "file_extension": ".py",
   "mimetype": "text/x-python",
   "name": "python",
   "nbconvert_exporter": "python",
   "pygments_lexer": "ipython3",
   "version": "3.8.10 (tags/v3.8.10:3d8993a, May  3 2021, 11:48:03) [MSC v.1928 64 bit (AMD64)]"
  },
  "orig_nbformat": 4,
  "vscode": {
   "interpreter": {
    "hash": "61cd7254479848ce9bae052e5520b020024ace1352f961bf0a9a5af526a14ef2"
   }
  }
 },
 "nbformat": 4,
 "nbformat_minor": 2
}
