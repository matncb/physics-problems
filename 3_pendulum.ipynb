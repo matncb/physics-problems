{
 "cells": [
  {
   "cell_type": "code",
   "execution_count": 28,
   "metadata": {},
   "outputs": [],
   "source": [
    "import numpy as np\n",
    "import sympy as smp\n",
    "from scipy.integrate import odeint\n",
    "import matplotlib.pyplot as plt\n",
    "from matplotlib import animation\n",
    "from mpl_toolkits.mplot3d import Axes3D\n",
    "from matplotlib.animation import PillowWriter"
   ]
  },
  {
   "cell_type": "code",
   "execution_count": 29,
   "metadata": {},
   "outputs": [],
   "source": [
    "t, g = smp.symbols('t g')\n",
    "m1, m2, m3 = smp.symbols('m1 m2 m3')\n",
    "L1, L2, L3 = smp.symbols('L1 L2 L3')\n",
    "\n",
    "the1, the2, the3= smp.symbols(r'\\theta_1, \\theta_2, \\theta_3', cls=smp.Function)\n",
    "the1 = the1(t)\n",
    "the2 = the2(t)\n",
    "the3 = the3(t)"
   ]
  },
  {
   "cell_type": "code",
   "execution_count": 30,
   "metadata": {},
   "outputs": [],
   "source": [
    "the1_d = smp.diff(the1, t)\n",
    "the2_d = smp.diff(the2, t)\n",
    "the3_d = smp.diff(the3, t)\n",
    "\n",
    "the1_dd = smp.diff(the1_d, t)\n",
    "the2_dd = smp.diff(the2_d, t)\n",
    "the3_dd = smp.diff(the3_d, t)"
   ]
  },
  {
   "cell_type": "code",
   "execution_count": 31,
   "metadata": {},
   "outputs": [],
   "source": [
    "#cartesian\n",
    "x1 = L1*smp.sin(the1)\n",
    "y1 = -L1*smp.cos(the1)\n",
    "\n",
    "x2 = x1 +L2*smp.sin(the2)\n",
    "y2 = y1 -L2*smp.cos(the2)\n",
    "\n",
    "x3 = x2 + L3*smp.sin(the3)\n",
    "y3 = y2 - L3*smp.cos(the3)\n",
    "\n",
    "def get_x1y1x2y2x3y3(t, the1, the2, the3, L1, L2, L3):\n",
    "    return (L1*np.sin(the1),\n",
    "            -L1*np.cos(the1),\n",
    "            L1*np.sin(the1) + L2*np.sin(the2),\n",
    "            -L1*np.cos(the1) - L2*np.cos(the2),\n",
    "            L1*np.sin(the1) + L2*np.sin(the2) + L3*np.sin(the3),\n",
    "            -L1*np.cos(the1) - L2*np.cos(the2) - L3*np.cos(the3)\n",
    "            )"
   ]
  },
  {
   "cell_type": "code",
   "execution_count": 32,
   "metadata": {},
   "outputs": [],
   "source": [
    "# Kinetic\n",
    "T1 = 1/2 * m1 * (smp.diff(x1, t)**2 + smp.diff(y1, t)**2)\n",
    "T2 = 1/2 * m2 * (smp.diff(x2, t)**2 + smp.diff(y2, t)**2)\n",
    "T3 = 1/2 * m3 * (smp.diff(x3, t)**2 + smp.diff(y3, t)**2)\n",
    "T = T1+T2+T3\n",
    "# Potential\n",
    "V1 = m1*g*y1\n",
    "V2 = m2*g*y2\n",
    "V3 = m3*g*y3\n",
    "V = V1 + V2 + V3\n",
    "# Lagrangian\n",
    "L = T-V"
   ]
  },
  {
   "cell_type": "code",
   "execution_count": 33,
   "metadata": {},
   "outputs": [],
   "source": [
    "LE1 = smp.simplify(smp.diff(L, the1) - smp.diff(smp.diff(L, the1_d), t))\n",
    "LE2 = smp.simplify(smp.diff(L, the2) - smp.diff(smp.diff(L, the2_d), t))\n",
    "LE3 = smp.simplify(smp.diff(L, the3) - smp.diff(smp.diff(L, the3_d), t))\n",
    "\n",
    "sols = smp.solve([LE1, LE2, LE3], (the1_dd, the2_dd, the3_dd), simplify=False, rational=False)"
   ]
  },
  {
   "cell_type": "code",
   "execution_count": 34,
   "metadata": {},
   "outputs": [],
   "source": [
    "dz1dt_f = smp.lambdify((t,g,m1,m2,m3,L1,L2,L3, the1,the2,the3,the1_d,the2_d, the3_d), sols[the1_dd])\n",
    "dz2dt_f = smp.lambdify((t,g,m1,m2,m3,L1,L2,L3, the1,the2,the3,the1_d,the2_d, the3_d), sols[the2_dd])\n",
    "dz3dt_f = smp.lambdify((t,g,m1,m2,m3,L1,L2,L3, the1,the2,the3,the1_d,the2_d, the3_d), sols[the3_dd])\n",
    "dthe1dt_f = smp.lambdify(the1_d, the1_d)\n",
    "dthe2dt_f = smp.lambdify(the2_d, the2_d)\n",
    "dthe3dt_f = smp.lambdify(the3_d, the3_d)\n",
    "\n",
    "def dSdt(S, t, g, m1, m2, m3, L1, L2, L3):\n",
    "    the1, z1, the2, z2, the3, z3 = S\n",
    "    return [\n",
    "        dthe1dt_f(z1),\n",
    "        dz1dt_f(t,g,m1,m2,m3,L1,L2,L3, the1,the2,the3,z1,z2,z3),\n",
    "        dthe2dt_f(z2),\n",
    "        dz2dt_f(t,g,m1,m2,m3,L1,L2,L3, the1,the2,the3,z1,z2,z3),\n",
    "        dthe3dt_f(z3),\n",
    "        dz3dt_f(t,g,m1,m2,m3,L1,L2,L3, the1,the2,the3,z1,z2,z3)\n",
    "    ]\n",
    "\n",
    "t = np.linspace(0, 40, 1001)\n",
    "g = 9.81\n",
    "m1=2\n",
    "m2=1\n",
    "m3 = 1\n",
    "L1 = 2\n",
    "L2 = 1\n",
    "L3 = 1\n",
    "\n",
    "ans = odeint(dSdt, y0=[1, -3, -1, 5, 1, -3], t=t, args=(g,m1,m2,m3,L1,L2,L3)).T\n",
    "the1 = ans[0]\n",
    "the2 = ans[2]\n",
    "the3 = ans[4]\n",
    "\n",
    "x1, y1, x2, y2, x3, y3 = get_x1y1x2y2x3y3(t, the1, the2,the3, L1, L2, L3)"
   ]
  },
  {
   "cell_type": "code",
   "execution_count": 35,
   "metadata": {},
   "outputs": [
    {
     "data": {
      "image/png": "[encoded data removed]",
      "text/plain": [
       "<Figure size 576x576 with 1 Axes>"
      ]
     },
     "metadata": {},
     "output_type": "display_data"
    }
   ],
   "source": [
    "def animate(i):\n",
    "    ln1.set_data([0, x1[i], x2[i], x3[i]], [0, y1[i], y2[i], y3[i]])\n",
    "    text.set_text(\"Time = \" + str(round(t[i],2)))\n",
    "    \n",
    "fig, ax = plt.subplots(1,1, figsize=(8,8))\n",
    "ax.set_facecolor('k')\n",
    "ax.get_xaxis().set_ticks([])    # enable this to hide x axis ticks\n",
    "ax.get_yaxis().set_ticks([])    # enable this to hide y axis ticks\n",
    "ln1, = plt.plot([], [], 'ro--', lw=3, markersize=8)\n",
    "text = plt.text(0, 3, 'sdfs' , fontsize = 20, color = 'white', ha = 'center')\n",
    "ax.set_ylim(-6,6)\n",
    "ax.set_xlim(-6,6)\n",
    "ani = animation.FuncAnimation(fig, animate, frames=len(t), interval=50)\n",
    "ani.save('pen.gif',writer='pillow',fps=len(t[t<1]))"
   ]
  },
  {
   "cell_type": "code",
   "execution_count": null,
   "metadata": {},
   "outputs": [],
   "source": []
  }
 ],
 "metadata": {
  "kernelspec": {
   "display_name": "Python 3",
   "language": "python",
   "name": "python3"
  },
  "language_info": {
   "codemirror_mode": {
    "name": "ipython",
    "version": 3
   },
   "file_extension": ".py",
   "mimetype": "text/x-python",
   "name": "python",
   "nbconvert_exporter": "python",
   "pygments_lexer": "ipython3",
   "version": "3.8.10"
  },
  "orig_nbformat": 4,
  "vscode": {
   "interpreter": {
    "hash": "61cd7254479848ce9bae052e5520b020024ace1352f961bf0a9a5af526a14ef2"
   }
  }
 },
 "nbformat": 4,
 "nbformat_minor": 2
}
